{
 "cells": [
  {
   "cell_type": "markdown",
   "metadata": {},
   "source": [
    "# Fantasy Basketball Analysis\n",
    "## Using probability and statistics to turn fantasy into science\n",
    "## Author: William Lusty, Georgia Tech School of Math\n",
    "### 1. Intro\n",
    "Fantasy sports are a popular form of entertainment globally.\n",
    "### 2. Sleeper and Lock-in Mode\n",
    "Sleeper is a fantasy sports app that is relatively new to the market. They offer a simple to use platform that is particuarly popular for fantasy basketball. In October 2022, Sleeper announced a new fantasy basketball mode called \"Lock-In Mode\" which revolutionizes the way the game is played. \n",
    "\n",
    "The prevalent game mode previously had users pick a single game per week that would be counted for the team's total score. This would typically be done at the start of every week before the games had been played. For example, if Lebron James was playing Phoenix, Boston, and Portland this upcoming week and I had him on my team, if I predicted that Lebron would be able to score many points against Portland's defense, I might pick to count the Lebron's Portland game to count for my team this week. \n",
    "\n",
    "Lock-in Mode, however, has users choose after every game that a player plays whether or not they would like for that game to count for their team every week. For example, suppose that Luka Doncic is on my team and plays Houston, San Antonio, and Miami this week. Let's say that Luka generates 51 fantasy points against Houston in the first game of the week. I know have a decision, either lock in those 51 fantasy points to count for my team this week or to leave the points unlocked, risking the sure points on the chance that he will produce more in one of the next two games.\n",
    "\n",
    "Lock-in mode has several different advantages over the old methods of playing fantasy basketball. Firstly, as a user, many more games each week have implications on the success of my team. With the old \"pick\" mode, only one game per player per week has an affect on the success of my team. With lock-in mode, every game of every player on my team that doesn't have their points locked in yet could give be a chance for a player to produce. Secondly, Lock-in Mode generates a much higher usage rate for the Sleeper app than traditional pick mode. With pick mode, players effectively \"set it and forget it\", since they can pick their games at the start of the week and there are no more decisions to be made. With lock-in mode, however, users who wish to maximize their team's points must check the app every day to see if any of their players had high-production games that should be locked in. Finally, a team's bench players can be utilized a lot more in lock-in mode. If one of my starters is not playing on a given night (and their points haven't been locked in yet), there is no reason why I shouldn't temporarily put them on the bench in favor of someone who is playing tonight on the chance that the bench player will have a highly productive game that could be locked in. Contrast this with pick mode where \n",
    " "
   ]
  },
  {
   "cell_type": "code",
   "execution_count": null,
   "metadata": {},
   "outputs": [],
   "source": []
  }
 ],
 "metadata": {
  "kernelspec": {
   "display_name": "Python 3.7.3 64-bit",
   "language": "python",
   "name": "python3"
  },
  "language_info": {
   "name": "python",
   "version": "3.7.3"
  },
  "orig_nbformat": 4,
  "vscode": {
   "interpreter": {
    "hash": "aee8b7b246df8f9039afb4144a1f6fd8d2ca17a180786b69acc140d282b71a49"
   }
  }
 },
 "nbformat": 4,
 "nbformat_minor": 2
}
